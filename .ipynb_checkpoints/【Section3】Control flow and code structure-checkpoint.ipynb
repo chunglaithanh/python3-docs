{
 "cells": [
  {
   "cell_type": "markdown",
   "metadata": {},
   "source": [
    "## 1. Decorator"
   ]
  },
  {
   "cell_type": "markdown",
   "metadata": {},
   "source": [
    "#### 1.1 Định nghĩa : \n",
    "Decorator là 1 wrapper(bao bọc, bao đóng) cho 1 method có sẵn. Sử dụng decorator có thể tùy ý chỉnh sửa, thêm chức năng cho 1 method có sẵn mà không cần sửa code của method đó. \n",
    "#### 1.2 Sử dụng decorator : \n",
    "- Gán 1 method cho biến"
   ]
  },
  {
   "cell_type": "code",
   "execution_count": 5,
   "metadata": {},
   "outputs": [
    {
     "data": {
      "text/plain": [
       "'Hello Gintoki'"
      ]
     },
     "execution_count": 5,
     "metadata": {},
     "output_type": "execute_result"
    }
   ],
   "source": [
    "def hello(name):\n",
    "    return \"Hello \" + name\n",
    "\n",
    "konichiwa = hello\n",
    "konichiwa(\"Gintoki\")"
   ]
  },
  {
   "cell_type": "markdown",
   "metadata": {},
   "source": [
    "- Khai báo method trong 1 method khác"
   ]
  },
  {
   "cell_type": "code",
   "execution_count": 8,
   "metadata": {},
   "outputs": [
    {
     "data": {
      "text/plain": [
       "11"
      ]
     },
     "execution_count": 8,
     "metadata": {},
     "output_type": "execute_result"
    }
   ],
   "source": [
    "def tinh_tong(a,b):\n",
    "    def tang(x):\n",
    "        return x+1\n",
    "    return tang(a)+tang(b)\n",
    "\n",
    "tinh_tong(4,5)"
   ]
  },
  {
   "cell_type": "markdown",
   "metadata": {},
   "source": [
    "- Method trả về method"
   ]
  },
  {
   "cell_type": "code",
   "execution_count": 10,
   "metadata": {},
   "outputs": [
    {
     "data": {
      "text/plain": [
       "-1"
      ]
     },
     "execution_count": 10,
     "metadata": {},
     "output_type": "execute_result"
    }
   ],
   "source": [
    "def tinh_toan(a,b):\n",
    "    def tru(a,b):\n",
    "        return a-b\n",
    "    return tru(a,b)\n",
    "\n",
    "tinh_toan(9,10)"
   ]
  },
  {
   "cell_type": "markdown",
   "metadata": {},
   "source": [
    "##### 1.3 Sử dụng syntatic sugar"
   ]
  },
  {
   "cell_type": "code",
   "execution_count": 18,
   "metadata": {},
   "outputs": [
    {
     "name": "stdout",
     "output_type": "stream",
     "text": [
      "Gintoki use decorator\n"
     ]
    }
   ],
   "source": [
    "def first_lession(f):\n",
    "    def wrapper():\n",
    "        return f() + \" use decorator\"\n",
    "    return wrapper\n",
    "\n",
    "@first_lession\n",
    "def check_author():\n",
    "    return \"Gintoki\"\n",
    "print(check_author()) "
   ]
  },
  {
   "cell_type": "markdown",
   "metadata": {},
   "source": [
    "#### 1.4 Class decorator "
   ]
  },
  {
   "cell_type": "code",
   "execution_count": 24,
   "metadata": {},
   "outputs": [
    {
     "name": "stdout",
     "output_type": "stream",
     "text": [
      "Hello, Gintoki\n",
      "Hello, Katsura\n",
      "Hello, Shinpachi\n",
      "3\n"
     ]
    }
   ],
   "source": [
    "class developer:\n",
    "    def __init__(self, f):\n",
    "        self.f = f\n",
    "        self.count = 0\n",
    "\n",
    "    def __call__(self, *args, **kwargs):\n",
    "        self.count += 1\n",
    "        return self.f(*args, **kwargs)\n",
    "\n",
    "\n",
    "@developer\n",
    "def hello(name):\n",
    "    print(\"Hello, {}\".format(name))\n",
    "\n",
    "\n",
    "hello(\"Gintoki\")\n",
    "hello(\"Katsura\")\n",
    "hello(\"Shinpachi\")\n",
    "print(hello.count)"
   ]
  },
  {
   "cell_type": "markdown",
   "metadata": {},
   "source": [
    "- Tùy biến sử dụng decorator"
   ]
  },
  {
   "cell_type": "markdown",
   "metadata": {},
   "source": [
    "## 2. Closure\n",
    "- Closure là những function tham chiếu đến các biến tự do (free avariable) tách biệt."
   ]
  },
  {
   "cell_type": "code",
   "execution_count": 9,
   "metadata": {},
   "outputs": [
    {
     "name": "stdout",
     "output_type": "stream",
     "text": [
      "Hello bimbim  nice day\n"
     ]
    }
   ],
   "source": [
    "def use_closure():\n",
    "    x = \"Hello\"\n",
    "    def change_str(y):\n",
    "        return x+y + \" nice day\"\n",
    "    return change_str(\" bimbim \")\n",
    "\n",
    "print(use_closure())"
   ]
  },
  {
   "cell_type": "code",
   "execution_count": 11,
   "metadata": {},
   "outputs": [
    {
     "name": "stdout",
     "output_type": "stream",
     "text": [
      "40\n"
     ]
    }
   ],
   "source": [
    "x = 10\n",
    "def cal_func():\n",
    "    y = 10\n",
    "    def plusX():\n",
    "        return x + y + 20\n",
    "    return plusX()\n",
    "\n",
    "print(cal_func())"
   ]
  },
  {
   "cell_type": "markdown",
   "metadata": {},
   "source": [
    "## 3. Lambda\n",
    "### 3.1 Khái niệm :\n",
    "Lambda là 1 hàm tạo ra nhằm thực thi xử lý nhỏ, ngắn gọn chỉ dùng `inline` và không sử dụng lại nhiều lần. "
   ]
  },
  {
   "cell_type": "code",
   "execution_count": 90,
   "metadata": {},
   "outputs": [
    {
     "data": {
      "text/plain": [
       "3"
      ]
     },
     "execution_count": 90,
     "metadata": {},
     "output_type": "execute_result"
    }
   ],
   "source": [
    "f = lambda x: x +1\n",
    "f(2)"
   ]
  },
  {
   "cell_type": "markdown",
   "metadata": {},
   "source": [
    "###  3.2 Ứng dụng lambda \n",
    "#### Ứng dụng với các method : `map`, `reduce`, ` filter`\n",
    "- Cấu trúc chung \n",
    "```(func, list ) ```"
   ]
  },
  {
   "cell_type": "markdown",
   "metadata": {},
   "source": [
    "####  3.1.1 Map \n",
    "- Hàm `map` thực hiện hàm `func` với từng phần tử trong `list`"
   ]
  },
  {
   "cell_type": "code",
   "execution_count": 99,
   "metadata": {},
   "outputs": [
    {
     "data": {
      "text/plain": [
       "[1.0, 2.0, 3.0, 4.0]"
      ]
     },
     "execution_count": 99,
     "metadata": {},
     "output_type": "execute_result"
    }
   ],
   "source": [
    "import math\n",
    "s = map(math.sqrt,[1,4,9,16]) \n",
    "list(s)"
   ]
  },
  {
   "cell_type": "code",
   "execution_count": 98,
   "metadata": {},
   "outputs": [
    {
     "data": {
      "text/plain": [
       "[1, 4, 9, 16]"
      ]
     },
     "execution_count": 98,
     "metadata": {},
     "output_type": "execute_result"
    }
   ],
   "source": [
    "s = map( lambda x: x**2, [1,2,3,4])\n",
    "list(s)"
   ]
  },
  {
   "cell_type": "markdown",
   "metadata": {},
   "source": [
    "- Map với nhiều parameter "
   ]
  },
  {
   "cell_type": "code",
   "execution_count": 129,
   "metadata": {},
   "outputs": [
    {
     "data": {
      "text/plain": [
       "[1, 1, 1]"
      ]
     },
     "execution_count": 129,
     "metadata": {},
     "output_type": "execute_result"
    }
   ],
   "source": [
    "x = map(lambda x,y :y%x,[2,4,6],[3,5,7])\n",
    "list(x)"
   ]
  },
  {
   "cell_type": "markdown",
   "metadata": {},
   "source": [
    "#### 3.1.2 Filter \n",
    "- Filter dùng để lọc các phần tử trong mảng theo điều kiện của hàm `func`"
   ]
  },
  {
   "cell_type": "code",
   "execution_count": 102,
   "metadata": {},
   "outputs": [
    {
     "data": {
      "text/plain": [
       "[2, 4, 6, 88]"
      ]
     },
     "execution_count": 102,
     "metadata": {},
     "output_type": "execute_result"
    }
   ],
   "source": [
    "[i for i in filter(lambda x : x%2==0, [2,3,4,6,88,9])]"
   ]
  },
  {
   "cell_type": "markdown",
   "metadata": {},
   "source": [
    "- Ví dụ tìm số nguyên tố trong các số từ 1 đến 100"
   ]
  },
  {
   "cell_type": "code",
   "execution_count": 123,
   "metadata": {},
   "outputs": [
    {
     "name": "stdout",
     "output_type": "stream",
     "text": [
      "[1, 2, 3, 5, 7, 11, 13, 17, 19, 23, 29, 31, 37, 41, 43, 47, 53, 59, 61, 67, 71, 73, 79, 83, 89, 97]\n"
     ]
    }
   ],
   "source": [
    "import math\n",
    "a = [i for i in range(1,100)]\n",
    "for y in range(2,int(math.sqrt(100) ) + 1):\n",
    "    a = [x for x in filter (lambda x: x%y or x ==y, a)]\n",
    "    \n",
    "print(a)"
   ]
  },
  {
   "cell_type": "markdown",
   "metadata": {},
   "source": [
    "#### 3.1.3 Reduce\n",
    "- Thực hiện `func`lên `list` đến khi chỉ còn 1 phần tử và trả lại phần tử đó"
   ]
  },
  {
   "cell_type": "code",
   "execution_count": 124,
   "metadata": {},
   "outputs": [
    {
     "data": {
      "text/plain": [
       "10"
      ]
     },
     "execution_count": 124,
     "metadata": {},
     "output_type": "execute_result"
    }
   ],
   "source": [
    "from functools import reduce \n",
    "reduce(lambda x,y: x+y, [1,2,3,4])"
   ]
  },
  {
   "cell_type": "markdown",
   "metadata": {},
   "source": [
    "- Tìm giá trị lớn nhất trong mảng"
   ]
  },
  {
   "cell_type": "code",
   "execution_count": 128,
   "metadata": {},
   "outputs": [
    {
     "data": {
      "text/plain": [
       "67"
      ]
     },
     "execution_count": 128,
     "metadata": {},
     "output_type": "execute_result"
    }
   ],
   "source": [
    "reduce(lambda x,y: x if x>y else y,[23,65,12,22,66,8,34,67])"
   ]
  },
  {
   "cell_type": "markdown",
   "metadata": {},
   "source": [
    "## 4. Interation & Generation \n",
    "### 4.1 Đối tượng interable \n",
    "- Khái niệm : Là những đối tượng có thể sử dụng vòng lặp `for` để duyệt qua các phần tử."
   ]
  },
  {
   "cell_type": "code",
   "execution_count": 130,
   "metadata": {},
   "outputs": [
    {
     "name": "stdout",
     "output_type": "stream",
     "text": [
      "0\n",
      "1\n",
      "2\n",
      "3\n",
      "4\n"
     ]
    }
   ],
   "source": [
    "for i in range(0,5):\n",
    "    print(i)"
   ]
  },
  {
   "cell_type": "markdown",
   "metadata": {},
   "source": [
    "- Một số hàm thao tác với interable"
   ]
  },
  {
   "cell_type": "code",
   "execution_count": 132,
   "metadata": {},
   "outputs": [
    {
     "data": {
      "text/plain": [
       "'Gintoki*Saitama*Yaiba'"
      ]
     },
     "execution_count": 132,
     "metadata": {},
     "output_type": "execute_result"
    }
   ],
   "source": [
    "\"*\".join([\"Gintoki\",\"Saitama\",\"Yaiba\"])"
   ]
  },
  {
   "cell_type": "code",
   "execution_count": 143,
   "metadata": {},
   "outputs": [
    {
     "data": {
      "text/plain": [
       "['x', 'y']"
      ]
     },
     "execution_count": 143,
     "metadata": {},
     "output_type": "execute_result"
    }
   ],
   "source": [
    "list({\"x\":2,\"y\":1})"
   ]
  },
  {
   "cell_type": "code",
   "execution_count": 133,
   "metadata": {},
   "outputs": [
    {
     "data": {
      "text/plain": [
       "['p', 'y', 't', 'h', 'o', 'n']"
      ]
     },
     "execution_count": 133,
     "metadata": {},
     "output_type": "execute_result"
    }
   ],
   "source": [
    "list('python')"
   ]
  },
  {
   "cell_type": "markdown",
   "metadata": {},
   "source": [
    "\n",
    "### 4.2 Interation\n",
    "- Khái niệm : Giao thức `Interation` là phương thức duyệt qua các interable.\n",
    "- Cách hoạt động dựa trên 2 phương thức : \n",
    " - `__iter__` : Trả về đối tượng interator \n",
    " - `__next__ ` : Trả về phàn tử kế tiếp, nếu không có phần tử kế tiếp thì raise `StopInteration`"
   ]
  },
  {
   "cell_type": "code",
   "execution_count": 138,
   "metadata": {},
   "outputs": [
    {
     "name": "stdout",
     "output_type": "stream",
     "text": [
      "<list_iterator object at 0x108e201d0>\n"
     ]
    }
   ],
   "source": [
    "x = iter([1,2,3])\n",
    "print(x)"
   ]
  },
  {
   "cell_type": "code",
   "execution_count": 139,
   "metadata": {},
   "outputs": [
    {
     "data": {
      "text/plain": [
       "1"
      ]
     },
     "execution_count": 139,
     "metadata": {},
     "output_type": "execute_result"
    }
   ],
   "source": [
    "x.__next__()"
   ]
  },
  {
   "cell_type": "code",
   "execution_count": 140,
   "metadata": {},
   "outputs": [
    {
     "data": {
      "text/plain": [
       "2"
      ]
     },
     "execution_count": 140,
     "metadata": {},
     "output_type": "execute_result"
    }
   ],
   "source": [
    "x.__next__()"
   ]
  },
  {
   "cell_type": "code",
   "execution_count": 141,
   "metadata": {},
   "outputs": [
    {
     "data": {
      "text/plain": [
       "3"
      ]
     },
     "execution_count": 141,
     "metadata": {},
     "output_type": "execute_result"
    }
   ],
   "source": [
    "x.__next__()"
   ]
  },
  {
   "cell_type": "code",
   "execution_count": 142,
   "metadata": {},
   "outputs": [
    {
     "ename": "StopIteration",
     "evalue": "",
     "output_type": "error",
     "traceback": [
      "\u001b[0;31m---------------------------------------------------------------------------\u001b[0m",
      "\u001b[0;31mStopIteration\u001b[0m                             Traceback (most recent call last)",
      "\u001b[0;32m<ipython-input-142-e717e1c1f535>\u001b[0m in \u001b[0;36m<module>\u001b[0;34m()\u001b[0m\n\u001b[0;32m----> 1\u001b[0;31m \u001b[0mx\u001b[0m\u001b[0;34m.\u001b[0m\u001b[0m__next__\u001b[0m\u001b[0;34m(\u001b[0m\u001b[0;34m)\u001b[0m\u001b[0;34m\u001b[0m\u001b[0m\n\u001b[0m",
      "\u001b[0;31mStopIteration\u001b[0m: "
     ]
    }
   ],
   "source": [
    "x.__next__()"
   ]
  },
  {
   "cell_type": "markdown",
   "metadata": {},
   "source": [
    "### 4.3 Generator \n",
    "- Khái niệm : \n",
    " - Generator là 1 method tạo ra các interator trả về kết quả là generator object.\n",
    " - Yield là phương thức tạo ra giá trị mới trong generator."
   ]
  },
  {
   "cell_type": "code",
   "execution_count": 145,
   "metadata": {},
   "outputs": [
    {
     "name": "stdout",
     "output_type": "stream",
     "text": [
      "<generator object generatorY at 0x108d83408>\n"
     ]
    }
   ],
   "source": [
    "def generatorY(y):\n",
    "    x = 0\n",
    "    while(x<y):\n",
    "        yield x\n",
    "        x +=1\n",
    "y = generatorY(3)\n",
    "print(y)"
   ]
  },
  {
   "cell_type": "code",
   "execution_count": 147,
   "metadata": {},
   "outputs": [
    {
     "name": "stdout",
     "output_type": "stream",
     "text": [
      "<generator object genString at 0x108d83228>\n",
      "['Gintoki', 'Saitama', 'Yaiba']\n"
     ]
    }
   ],
   "source": [
    "def genString():\n",
    "    yield \"Gintoki\"\n",
    "    yield \"Saitama\"\n",
    "    yield \"Yaiba\"\n",
    "print(genString())\n",
    "print(list(genString()))"
   ]
  },
  {
   "cell_type": "markdown",
   "metadata": {},
   "source": [
    "- Biểu thức generator "
   ]
  },
  {
   "cell_type": "code",
   "execution_count": 150,
   "metadata": {},
   "outputs": [
    {
     "name": "stdout",
     "output_type": "stream",
     "text": [
      "<generator object <genexpr> at 0x108d832a0>\n",
      "[0, 2, 4, 6, 8]\n"
     ]
    }
   ],
   "source": [
    "a = (x*2 for x in range(0,5))\n",
    "print(a)\n",
    "print(list(a))"
   ]
  },
  {
   "cell_type": "markdown",
   "metadata": {},
   "source": [
    "- Generator dùng để nâng cao hiệu suất thực thi code do generator sử dụng ít bộ nhớ hơn. "
   ]
  },
  {
   "cell_type": "code",
   "execution_count": 8,
   "metadata": {},
   "outputs": [
    {
     "name": "stdout",
     "output_type": "stream",
     "text": [
      "<class 'generator'>\n"
     ]
    },
    {
     "data": {
      "text/plain": [
       "120"
      ]
     },
     "execution_count": 8,
     "metadata": {},
     "output_type": "execute_result"
    }
   ],
   "source": [
    "from sys import getsizeof \n",
    "a = (x*2 for x in range(0,100))\n",
    "print(type(a))\n",
    "getsizeof(a)"
   ]
  },
  {
   "cell_type": "code",
   "execution_count": 16,
   "metadata": {},
   "outputs": [
    {
     "name": "stdout",
     "output_type": "stream",
     "text": [
      "<class 'list'>\n"
     ]
    },
    {
     "data": {
      "text/plain": [
       "912"
      ]
     },
     "execution_count": 16,
     "metadata": {},
     "output_type": "execute_result"
    }
   ],
   "source": [
    "b = [y*3 for y in range(0,100)]\n",
    "print(type(b))\n",
    "getsizeof(b)"
   ]
  },
  {
   "cell_type": "markdown",
   "metadata": {},
   "source": [
    "## 5. Intertools\n",
    "### 5.1 chain\n",
    "- Gộp các iterator thành 1 iterator"
   ]
  },
  {
   "cell_type": "code",
   "execution_count": 18,
   "metadata": {},
   "outputs": [
    {
     "data": {
      "text/plain": [
       "<itertools.chain at 0x10f956320>"
      ]
     },
     "execution_count": 18,
     "metadata": {},
     "output_type": "execute_result"
    }
   ],
   "source": [
    "import itertools\n",
    "it1 = ([1,2,3])\n",
    "it2 = ([4,5,6])\n",
    "itertools.chain(it1,it2)"
   ]
  },
  {
   "cell_type": "code",
   "execution_count": 19,
   "metadata": {},
   "outputs": [
    {
     "data": {
      "text/plain": [
       "[1, 2, 3, 4, 5, 6]"
      ]
     },
     "execution_count": 19,
     "metadata": {},
     "output_type": "execute_result"
    }
   ],
   "source": [
    "list(itertools.chain(it1,it2))"
   ]
  },
  {
   "cell_type": "markdown",
   "metadata": {},
   "source": [
    "### 5.2 dropwhile\n",
    "- Trả về `iterator` từ 1 đối tượng `iterable` bằng cách `loại bỏ` các phần tử từ đầu đối tượng `iterable` khi thỏa mãn điều kiện nào đó. "
   ]
  },
  {
   "cell_type": "code",
   "execution_count": 23,
   "metadata": {},
   "outputs": [
    {
     "data": {
      "text/plain": [
       "<itertools.dropwhile at 0x10f9c9588>"
      ]
     },
     "execution_count": 23,
     "metadata": {},
     "output_type": "execute_result"
    }
   ],
   "source": [
    "itertools.dropwhile(lambda x: x<5,[1,4,6,7,8,2,4,6])"
   ]
  },
  {
   "cell_type": "code",
   "execution_count": 24,
   "metadata": {},
   "outputs": [
    {
     "data": {
      "text/plain": [
       "[6, 7, 8, 2, 4, 6]"
      ]
     },
     "execution_count": 24,
     "metadata": {},
     "output_type": "execute_result"
    }
   ],
   "source": [
    "list(itertools.dropwhile(lambda x: x<5,[1,4,6,7,8,2,4,6]))"
   ]
  },
  {
   "cell_type": "markdown",
   "metadata": {},
   "source": [
    "### 5.3 takewhile\n",
    "- Trả về `iterator` bằng cách `lấy ra` các phần tử từ đối tượng `iterable` khi thỏa mãn điều kiện nào đó."
   ]
  },
  {
   "cell_type": "code",
   "execution_count": 28,
   "metadata": {},
   "outputs": [
    {
     "data": {
      "text/plain": [
       "<itertools.takewhile at 0x10f9c9b88>"
      ]
     },
     "execution_count": 28,
     "metadata": {},
     "output_type": "execute_result"
    }
   ],
   "source": [
    "itertools.takewhile(lambda x: x < 7,[1,4,6,7,8,2,4,6])"
   ]
  },
  {
   "cell_type": "code",
   "execution_count": 29,
   "metadata": {},
   "outputs": [
    {
     "data": {
      "text/plain": [
       "[1, 4, 6]"
      ]
     },
     "execution_count": 29,
     "metadata": {},
     "output_type": "execute_result"
    }
   ],
   "source": [
    "list(itertools.takewhile(lambda x: x < 7,[1,4,6,7,8,2,4,6])) "
   ]
  },
  {
   "cell_type": "markdown",
   "metadata": {},
   "source": [
    "## 6. Format Code \n",
    "- Comment"
   ]
  },
  {
   "cell_type": "code",
   "execution_count": 18,
   "metadata": {},
   "outputs": [],
   "source": [
    "# this is coment "
   ]
  },
  {
   "cell_type": "markdown",
   "metadata": {},
   "source": [
    "- Format code nhiều dòng "
   ]
  },
  {
   "cell_type": "code",
   "execution_count": 19,
   "metadata": {},
   "outputs": [
    {
     "name": "stdout",
     "output_type": "stream",
     "text": [
      "[1, 2, 23, 7, 4, 5, 5, 6]\n"
     ]
    }
   ],
   "source": [
    "i = [1,2,23,4 + \\\n",
    "    3,4,5,5,6]\n",
    "print(i)"
   ]
  },
  {
   "cell_type": "markdown",
   "metadata": {},
   "source": [
    "## 7. Toán tử"
   ]
  },
  {
   "cell_type": "code",
   "execution_count": 20,
   "metadata": {},
   "outputs": [],
   "source": [
    "a = 4\n",
    "b = 6 "
   ]
  },
  {
   "cell_type": "code",
   "execution_count": 22,
   "metadata": {},
   "outputs": [
    {
     "data": {
      "text/plain": [
       "True"
      ]
     },
     "execution_count": 22,
     "metadata": {},
     "output_type": "execute_result"
    }
   ],
   "source": [
    "a == b"
   ]
  },
  {
   "cell_type": "code",
   "execution_count": 23,
   "metadata": {},
   "outputs": [
    {
     "data": {
      "text/plain": [
       "True"
      ]
     },
     "execution_count": 23,
     "metadata": {},
     "output_type": "execute_result"
    }
   ],
   "source": [
    "a <= b "
   ]
  },
  {
   "cell_type": "code",
   "execution_count": 24,
   "metadata": {},
   "outputs": [
    {
     "data": {
      "text/plain": [
       "False"
      ]
     },
     "execution_count": 24,
     "metadata": {},
     "output_type": "execute_result"
    }
   ],
   "source": [
    "a != b"
   ]
  },
  {
   "cell_type": "code",
   "execution_count": 25,
   "metadata": {},
   "outputs": [
    {
     "data": {
      "text/plain": [
       "6"
      ]
     },
     "execution_count": 25,
     "metadata": {},
     "output_type": "execute_result"
    }
   ],
   "source": [
    "a or b"
   ]
  },
  {
   "cell_type": "code",
   "execution_count": 32,
   "metadata": {},
   "outputs": [
    {
     "data": {
      "text/plain": [
       "6"
      ]
     },
     "execution_count": 32,
     "metadata": {},
     "output_type": "execute_result"
    }
   ],
   "source": [
    "a and b"
   ]
  },
  {
   "cell_type": "code",
   "execution_count": 37,
   "metadata": {},
   "outputs": [
    {
     "data": {
      "text/plain": [
       "True"
      ]
     },
     "execution_count": 37,
     "metadata": {},
     "output_type": "execute_result"
    }
   ],
   "source": [
    "a is not None"
   ]
  },
  {
   "cell_type": "markdown",
   "metadata": {},
   "source": [
    "- in & not in "
   ]
  },
  {
   "cell_type": "code",
   "execution_count": 30,
   "metadata": {},
   "outputs": [
    {
     "data": {
      "text/plain": [
       "True"
      ]
     },
     "execution_count": 30,
     "metadata": {},
     "output_type": "execute_result"
    }
   ],
   "source": [
    "x = [1,2,3,4,5]\n",
    "4 in x "
   ]
  },
  {
   "cell_type": "code",
   "execution_count": 44,
   "metadata": {},
   "outputs": [
    {
     "data": {
      "text/plain": [
       "True"
      ]
     },
     "execution_count": 44,
     "metadata": {},
     "output_type": "execute_result"
    }
   ],
   "source": [
    "9 not in x"
   ]
  },
  {
   "cell_type": "markdown",
   "metadata": {},
   "source": [
    "## 8. Cấu trúc rẽ nhánh \n",
    "#### If else "
   ]
  },
  {
   "cell_type": "code",
   "execution_count": 45,
   "metadata": {},
   "outputs": [
    {
     "name": "stdout",
     "output_type": "stream",
     "text": [
      "small\n"
     ]
    }
   ],
   "source": [
    "if a < 3:\n",
    "    print(\"small\")\n",
    "elif a >3:\n",
    "    print(\"big\")\n",
    "else:\n",
    "    print(\"normal\")"
   ]
  },
  {
   "cell_type": "markdown",
   "metadata": {},
   "source": [
    "## 9. Cấu trúc lặp \n",
    "### 9.1 While "
   ]
  },
  {
   "cell_type": "code",
   "execution_count": 46,
   "metadata": {},
   "outputs": [
    {
     "name": "stdout",
     "output_type": "stream",
     "text": [
      "ahihi\n",
      "ahihi\n"
     ]
    }
   ],
   "source": [
    "a = 3\n",
    "while(a > 1):\n",
    "    print(\"ahihi\")\n",
    "    a -=1"
   ]
  },
  {
   "cell_type": "code",
   "execution_count": 50,
   "metadata": {},
   "outputs": [
    {
     "name": "stdout",
     "output_type": "stream",
     "text": [
      "==========\n",
      "0\n",
      "==========\n",
      "1\n",
      "ahihi\n",
      "==========\n",
      "4\n",
      "==========\n",
      "5\n"
     ]
    }
   ],
   "source": [
    "cnt = 0\n",
    "while True:\n",
    "    if cnt > 5:\n",
    "        break\n",
    "    elif cnt == 2:\n",
    "        cnt += 2\n",
    "        print(\"ahihi\")\n",
    "        continue\n",
    "    else:\n",
    "        print(\"==========\")\n",
    "    print(cnt)\n",
    "    cnt += 1"
   ]
  },
  {
   "cell_type": "markdown",
   "metadata": {},
   "source": [
    "### 9.2 For loop"
   ]
  },
  {
   "cell_type": "code",
   "execution_count": 57,
   "metadata": {},
   "outputs": [
    {
     "name": "stdout",
     "output_type": "stream",
     "text": [
      "this is 0\n",
      "this is 1\n",
      "this is 2\n",
      "this is 3\n",
      "this is 4\n"
     ]
    }
   ],
   "source": [
    "for k in range(0,5):\n",
    "    print(\"this is \" + str(k))"
   ]
  },
  {
   "cell_type": "code",
   "execution_count": 58,
   "metadata": {},
   "outputs": [
    {
     "name": "stdout",
     "output_type": "stream",
     "text": [
      "this is 0\n",
      "this is 2\n",
      "this is 4\n"
     ]
    }
   ],
   "source": [
    "for k in range(0,5,2):\n",
    "    print(\"this is \" + str(k))"
   ]
  },
  {
   "cell_type": "code",
   "execution_count": 53,
   "metadata": {},
   "outputs": [
    {
     "name": "stdout",
     "output_type": "stream",
     "text": [
      "1\n",
      "2\n",
      "3\n",
      "4\n",
      "5\n",
      "6\n"
     ]
    }
   ],
   "source": [
    "ls = [1,2,3,4,5,6]\n",
    "for k in ls:\n",
    "    print(k)"
   ]
  },
  {
   "cell_type": "code",
   "execution_count": 56,
   "metadata": {},
   "outputs": [
    {
     "name": "stdout",
     "output_type": "stream",
     "text": [
      "[2, 4, 6]\n"
     ]
    }
   ],
   "source": [
    "print([x for x in ls if x%2==0])"
   ]
  },
  {
   "cell_type": "markdown",
   "metadata": {},
   "source": [
    "- Dictionary type and for loop"
   ]
  },
  {
   "cell_type": "code",
   "execution_count": 69,
   "metadata": {},
   "outputs": [
    {
     "name": "stdout",
     "output_type": "stream",
     "text": [
      "x  :  10\n",
      "y  :  20\n"
     ]
    }
   ],
   "source": [
    "d = {'x':10,'y':20}\n",
    "for i,j in d.items():\n",
    "    print(i,' : ',j )"
   ]
  },
  {
   "cell_type": "markdown",
   "metadata": {},
   "source": [
    "#### Tối ưu vòng lặp for \n",
    "- Bài toán 1 :\n",
    "yêu cầu in list các phần tử chia hết cho 2 trong mảng"
   ]
  },
  {
   "cell_type": "code",
   "execution_count": 37,
   "metadata": {},
   "outputs": [
    {
     "name": "stdout",
     "output_type": "stream",
     "text": [
      "[2, 4, 6, 8]\n"
     ]
    }
   ],
   "source": [
    "lst = [i for i in range(1,10)]\n",
    "# ===================================\n",
    "\n",
    "\n",
    "# Cách 1 \n",
    "\n",
    "result = []\n",
    "for x in lst :\n",
    "    if x%2 == 0:\n",
    "       result.append(x)\n",
    "print(result)\n"
   ]
  },
  {
   "cell_type": "code",
   "execution_count": 39,
   "metadata": {},
   "outputs": [
    {
     "name": "stdout",
     "output_type": "stream",
     "text": [
      "[2, 4, 6, 8]\n"
     ]
    }
   ],
   "source": [
    "# Cách 2\n",
    "print([i for i in lst if i %2==0])"
   ]
  },
  {
   "cell_type": "markdown",
   "metadata": {},
   "source": [
    "- Bài toán 2 : Yêu cầu in list kết quả nhân các phần tử của 2 mảng a,b "
   ]
  },
  {
   "cell_type": "code",
   "execution_count": 42,
   "metadata": {},
   "outputs": [
    {
     "name": "stdout",
     "output_type": "stream",
     "text": [
      "[2, 0, 2, 4, 0, 4, 6, 0, 6]\n"
     ]
    }
   ],
   "source": [
    "a = [1,2,3]\n",
    "b = [2,0,2]\n",
    "\n",
    "#====================================\n",
    "\n",
    "# Cách 1\n",
    "result = []\n",
    "for i in a:\n",
    "    for y in b:\n",
    "        result.append(i*y)\n",
    "print(result)"
   ]
  },
  {
   "cell_type": "code",
   "execution_count": 43,
   "metadata": {},
   "outputs": [
    {
     "name": "stdout",
     "output_type": "stream",
     "text": [
      "[2, 0, 2, 4, 0, 4, 6, 0, 6]\n"
     ]
    }
   ],
   "source": [
    "# Cách 2\n",
    "print([i*y for i in a for y in b]) "
   ]
  },
  {
   "cell_type": "markdown",
   "metadata": {},
   "source": [
    "## 10. Phân biệt kiểu dữ liệu list, generator, set"
   ]
  },
  {
   "cell_type": "code",
   "execution_count": 45,
   "metadata": {},
   "outputs": [
    {
     "name": "stdout",
     "output_type": "stream",
     "text": [
      "[0, 1, 2, 3, 4, 5, 6, 7, 8, 9]\n",
      "<class 'list'>\n"
     ]
    }
   ],
   "source": [
    "a = [i for i in range(0,10)]\n",
    "print(a)\n",
    "print(type(a))"
   ]
  },
  {
   "cell_type": "code",
   "execution_count": 47,
   "metadata": {},
   "outputs": [
    {
     "name": "stdout",
     "output_type": "stream",
     "text": [
      "<generator object <genexpr> at 0x10f9da048>\n",
      "<class 'generator'>\n"
     ]
    }
   ],
   "source": [
    "a = (i for i in range(0,10))\n",
    "print(a)\n",
    "print(type(a))"
   ]
  },
  {
   "cell_type": "code",
   "execution_count": 48,
   "metadata": {},
   "outputs": [
    {
     "name": "stdout",
     "output_type": "stream",
     "text": [
      "{0, 1, 2, 3, 4, 5, 6, 7, 8, 9}\n",
      "<class 'set'>\n"
     ]
    }
   ],
   "source": [
    "a = {i for i in range(0,10)}\n",
    "print(a)\n",
    "print(type(a))"
   ]
  },
  {
   "cell_type": "markdown",
   "metadata": {},
   "source": [
    "## 11. Phân biệt decorator và global \n",
    "- Decorator truy cập 1 variable từ 1 method nằm trong 1 method khác"
   ]
  },
  {
   "cell_type": "code",
   "execution_count": 50,
   "metadata": {},
   "outputs": [
    {
     "name": "stdout",
     "output_type": "stream",
     "text": [
      "617283\n"
     ]
    }
   ],
   "source": [
    "def fixNum():\n",
    "    num = 1234567\n",
    "    def divideThis():\n",
    "        return num//2\n",
    "    return divideThis()\n",
    "\n",
    "print (fixNum())"
   ]
  },
  {
   "cell_type": "markdown",
   "metadata": {},
   "source": [
    "- Để truy cập variable bên ngoài method, cần khai báo global variable."
   ]
  },
  {
   "cell_type": "code",
   "execution_count": 51,
   "metadata": {},
   "outputs": [
    {
     "name": "stdout",
     "output_type": "stream",
     "text": [
      "Sakata Gintoki\n"
     ]
    }
   ],
   "source": [
    "str = \"Gintoki\"\n",
    "\n",
    "def changeName():\n",
    "    global str\n",
    "    return \"Sakata \" + str\n",
    "\n",
    "print(changeName())"
   ]
  },
  {
   "cell_type": "markdown",
   "metadata": {},
   "source": [
    "- Sử dụng globals , locals "
   ]
  },
  {
   "cell_type": "code",
   "execution_count": 56,
   "metadata": {},
   "outputs": [
    {
     "name": "stdout",
     "output_type": "stream",
     "text": [
      "local :  {'x': 10, 'z': 'shinzao'}\n"
     ]
    }
   ],
   "source": [
    "character = \"Saitama\"\n",
    "def useGlobal ():\n",
    "    x  =10\n",
    "    z = \"shinzao\"\n",
    "    print('local : ', locals())\n",
    "    \n",
    "useGlobal()"
   ]
  },
  {
   "cell_type": "code",
   "execution_count": 58,
   "metadata": {},
   "outputs": [],
   "source": [
    "# print('global : ',globals())"
   ]
  },
  {
   "cell_type": "markdown",
   "metadata": {},
   "source": [
    "## 12. Enumerate"
   ]
  },
  {
   "cell_type": "code",
   "execution_count": 61,
   "metadata": {},
   "outputs": [
    {
     "name": "stdout",
     "output_type": "stream",
     "text": [
      "0 red\n",
      "1 orrage\n",
      "2 blue\n"
     ]
    }
   ],
   "source": [
    "for i, color in enumerate(['red','orrage','blue']):\n",
    "    print (i,color)"
   ]
  },
  {
   "cell_type": "code",
   "execution_count": 63,
   "metadata": {},
   "outputs": [
    {
     "name": "stdout",
     "output_type": "stream",
     "text": [
      "[(0, 'red'), (1, 'orrange'), (2, 'blue')]\n"
     ]
    }
   ],
   "source": [
    "s = (['red','orrange','blue'])\n",
    "m = enumerate(s)\n",
    "print(list(m))"
   ]
  },
  {
   "cell_type": "markdown",
   "metadata": {},
   "source": [
    "## 13. Zip"
   ]
  },
  {
   "cell_type": "code",
   "execution_count": 67,
   "metadata": {},
   "outputs": [
    {
     "name": "stdout",
     "output_type": "stream",
     "text": [
      "[('1,3,5,7', '0,2,4,6')]\n"
     ]
    }
   ],
   "source": [
    "a = ['1,3,5,7']\n",
    "b = ['0,2,4,6']\n",
    "c = zip(a,b)\n",
    "print(list(c))"
   ]
  },
  {
   "cell_type": "markdown",
   "metadata": {},
   "source": [
    "## 14. Method\n",
    "#### Method trả về giá trị"
   ]
  },
  {
   "cell_type": "code",
   "execution_count": 76,
   "metadata": {},
   "outputs": [
    {
     "name": "stdout",
     "output_type": "stream",
     "text": [
      "ab\n"
     ]
    }
   ],
   "source": [
    "def add_num(a: int, b: int):\n",
    "    return a+b\n",
    "print(add_num('a','b'))"
   ]
  },
  {
   "cell_type": "markdown",
   "metadata": {},
   "source": [
    "#### Giá trị mặc định input cho method "
   ]
  },
  {
   "cell_type": "code",
   "execution_count": 81,
   "metadata": {},
   "outputs": [
    {
     "name": "stdout",
     "output_type": "stream",
     "text": [
      "beer  :  3\n"
     ]
    }
   ],
   "source": [
    "def menu(drink='beer', quantity=3 ):\n",
    "    print(drink, ' : ', quantity)\n",
    "\n",
    "    \n",
    "menu()"
   ]
  },
  {
   "cell_type": "code",
   "execution_count": 83,
   "metadata": {},
   "outputs": [
    {
     "name": "stdout",
     "output_type": "stream",
     "text": [
      "wine  :  10\n"
     ]
    }
   ],
   "source": [
    "menu('wine',10)"
   ]
  },
  {
   "cell_type": "code",
   "execution_count": 84,
   "metadata": {},
   "outputs": [
    {
     "name": "stdout",
     "output_type": "stream",
     "text": [
      "juice  :  3\n"
     ]
    }
   ],
   "source": [
    "menu(drink='juice')"
   ]
  },
  {
   "cell_type": "markdown",
   "metadata": {},
   "source": [
    "#### Tùy biến method input"
   ]
  },
  {
   "cell_type": "code",
   "execution_count": 86,
   "metadata": {},
   "outputs": [
    {
     "name": "stdout",
     "output_type": "stream",
     "text": [
      "whisky  :  None\n"
     ]
    }
   ],
   "source": [
    "def menuf(drink='beer', quantity=None):\n",
    "    print(drink,' : ', quantity)\n",
    "\n",
    "menuf(drink='whisky')"
   ]
  },
  {
   "cell_type": "markdown",
   "metadata": {},
   "source": [
    "## 15. DocString"
   ]
  },
  {
   "cell_type": "code",
   "execution_count": 89,
   "metadata": {},
   "outputs": [
    {
     "name": "stdout",
     "output_type": "stream",
     "text": [
      "\n",
      "    Day la Doc String\n",
      "    \n"
     ]
    }
   ],
   "source": [
    "def order_menu():\n",
    "    \"\"\"\n",
    "    Day la Doc String\n",
    "    \"\"\"\n",
    "    return \n",
    "\n",
    "print(order_menu.__doc__)"
   ]
  },
  {
   "cell_type": "markdown",
   "metadata": {},
   "source": [
    "## 16. Exception\n",
    "### 16.1 Xử lý ngoại lệ, bắt exception"
   ]
  },
  {
   "cell_type": "code",
   "execution_count": 66,
   "metadata": {},
   "outputs": [
    {
     "name": "stdout",
     "output_type": "stream",
     "text": [
      "Error : list index out of range\n"
     ]
    }
   ],
   "source": [
    "l = [0,1,2,3]\n",
    "try :\n",
    "    print(l[5])\n",
    "except NameError as ex:\n",
    "    print('Error : {}'.format(ex))\n",
    "except Exception as ex:\n",
    "    print ('Error : {}'.format(ex))\n"
   ]
  },
  {
   "cell_type": "markdown",
   "metadata": {},
   "source": [
    "### 16.2 Raise Error "
   ]
  },
  {
   "cell_type": "code",
   "execution_count": 69,
   "metadata": {},
   "outputs": [
    {
     "name": "stdout",
     "output_type": "stream",
     "text": [
      "エラーが発生しました。\n"
     ]
    }
   ],
   "source": [
    "class UppercaseError(Exception):\n",
    "    pass \n",
    "\n",
    "def checkUpper(lst):\n",
    "    for word in lst:\n",
    "        if word.isupper():\n",
    "            raise UppercaseError(word)\n",
    "\n",
    "try :\n",
    "    checkUpper(['apple', 'JUNIOR', 'BIGBANG', 'Bimbim'])\n",
    "except UppercaseError as ex:\n",
    "    print('エラーが発生しました。')\n",
    "\n"
   ]
  }
 ],
 "metadata": {
  "kernelspec": {
   "display_name": "Python 3",
   "language": "python",
   "name": "python3"
  },
  "language_info": {
   "codemirror_mode": {
    "name": "ipython",
    "version": 2
   },
   "file_extension": ".py",
   "mimetype": "text/x-python",
   "name": "python",
   "nbconvert_exporter": "python",
   "pygments_lexer": "ipython2",
   "version": "2.7.14"
  }
 },
 "nbformat": 4,
 "nbformat_minor": 2
}
