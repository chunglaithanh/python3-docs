{
 "cells": [
  {
   "cell_type": "markdown",
   "metadata": {},
   "source": [
    "### 1. Class \n",
    "#### 1.1 Định nghĩa class"
   ]
  },
  {
   "cell_type": "code",
   "execution_count": 3,
   "metadata": {
    "scrolled": true
   },
   "outputs": [
    {
     "name": "stdout",
     "output_type": "stream",
     "text": [
      " Say Blah \n"
     ]
    }
   ],
   "source": [
    "class Person(object):\n",
    "    def say_blahblah(self):\n",
    "        print(' Say Blah ')\n",
    "\n",
    "person = Person()\n",
    "person.say_blahblah()"
   ]
  },
  {
   "cell_type": "markdown",
   "metadata": {},
   "source": [
    "#### 1.2  Class method \n",
    "- Khởi tạo class với `__init__`"
   ]
  },
  {
   "cell_type": "code",
   "execution_count": 4,
   "metadata": {},
   "outputs": [
    {
     "name": "stdout",
     "output_type": "stream",
     "text": [
      "Sakata Gintoki\n"
     ]
    }
   ],
   "source": [
    "class character(object):\n",
    "    def __init__(self,name):\n",
    "        self.name = name \n",
    "        print(self.name)\n",
    "gintoki = character('Sakata Gintoki')"
   ]
  },
  {
   "cell_type": "markdown",
   "metadata": {},
   "source": [
    "- Xóa với `__del__`"
   ]
  },
  {
   "cell_type": "code",
   "execution_count": 5,
   "metadata": {},
   "outputs": [
    {
     "name": "stdout",
     "output_type": "stream",
     "text": [
      "Bye Bye !!!\n"
     ]
    }
   ],
   "source": [
    "class character(object):\n",
    "    def ageIncrease(self,age):\n",
    "        self.age = age + 1 \n",
    "    def __del__(self):\n",
    "        print('Bye Bye !!!')\n",
    "  \n",
    "gintoki = character()\n",
    "del gintoki"
   ]
  },
  {
   "cell_type": "markdown",
   "metadata": {},
   "source": [
    "- Self trong python \n",
    "    - giống như this trong một số ngôn ngữ hướng đối tượng khác, dùng để thể hiện đây là thực thể của object được khai báo. \n",
    "    - Trong python có thể xài `self` hoặc `dat` hoặc `dnh` với ý nghĩa tương đương"
   ]
  },
  {
   "cell_type": "code",
   "execution_count": 5,
   "metadata": {},
   "outputs": [
    {
     "name": "stdout",
     "output_type": "stream",
     "text": [
      "dog\n"
     ]
    }
   ],
   "source": [
    "class animal(object):\n",
    "    def __init__(self,a):\n",
    "        self.__a = a \n",
    "    \n",
    "    def call(self):\n",
    "        print(self.__a)\n",
    "\n",
    "dog = animal('dog')\n",
    "animal.call(dog)"
   ]
  },
  {
   "cell_type": "markdown",
   "metadata": {},
   "source": [
    "#### 1.3 Getter & Setter"
   ]
  },
  {
   "cell_type": "code",
   "execution_count": 27,
   "metadata": {},
   "outputs": [],
   "source": [
    "class Celsius:\n",
    "    def __init__(self, temperature = 0):\n",
    "        self.set_temperature(temperature)\n",
    "\n",
    "    def to_fahrenheit(self):\n",
    "        return (self.get_temperature() * 1.8) + 32\n",
    "    # new update\n",
    "    def get_temperature(self):\n",
    "        return self._temperature\n",
    "\n",
    "    def set_temperature(self, value):\n",
    "        if value < -273:\n",
    "            raise ValueError(\"Temperature below -273 is not possible\")\n",
    "        self._temperature = value"
   ]
  },
  {
   "cell_type": "code",
   "execution_count": 13,
   "metadata": {},
   "outputs": [
    {
     "ename": "ValueError",
     "evalue": "Temperature below -273 is not possible",
     "output_type": "error",
     "traceback": [
      "\u001b[0;31m---------------------------------------------------------------------------\u001b[0m",
      "\u001b[0;31mValueError\u001b[0m                                Traceback (most recent call last)",
      "\u001b[0;32m<ipython-input-13-7359d3c37048>\u001b[0m in \u001b[0;36m<module>\u001b[0;34m()\u001b[0m\n\u001b[0;32m----> 1\u001b[0;31m \u001b[0mc\u001b[0m \u001b[0;34m=\u001b[0m \u001b[0mCelsius\u001b[0m\u001b[0;34m(\u001b[0m\u001b[0;34m-\u001b[0m\u001b[0;36m299\u001b[0m\u001b[0;34m)\u001b[0m\u001b[0;34m\u001b[0m\u001b[0m\n\u001b[0m",
      "\u001b[0;32m<ipython-input-6-207ffdfb7760>\u001b[0m in \u001b[0;36m__init__\u001b[0;34m(self, temperature)\u001b[0m\n\u001b[1;32m      1\u001b[0m \u001b[0;32mclass\u001b[0m \u001b[0mCelsius\u001b[0m\u001b[0;34m:\u001b[0m\u001b[0;34m\u001b[0m\u001b[0m\n\u001b[1;32m      2\u001b[0m     \u001b[0;32mdef\u001b[0m \u001b[0m__init__\u001b[0m\u001b[0;34m(\u001b[0m\u001b[0mself\u001b[0m\u001b[0;34m,\u001b[0m \u001b[0mtemperature\u001b[0m \u001b[0;34m=\u001b[0m \u001b[0;36m0\u001b[0m\u001b[0;34m)\u001b[0m\u001b[0;34m:\u001b[0m\u001b[0;34m\u001b[0m\u001b[0m\n\u001b[0;32m----> 3\u001b[0;31m         \u001b[0mself\u001b[0m\u001b[0;34m.\u001b[0m\u001b[0mset_temperature\u001b[0m\u001b[0;34m(\u001b[0m\u001b[0mtemperature\u001b[0m\u001b[0;34m)\u001b[0m\u001b[0;34m\u001b[0m\u001b[0m\n\u001b[0m\u001b[1;32m      4\u001b[0m \u001b[0;34m\u001b[0m\u001b[0m\n\u001b[1;32m      5\u001b[0m     \u001b[0;32mdef\u001b[0m \u001b[0mto_fahrenheit\u001b[0m\u001b[0;34m(\u001b[0m\u001b[0mself\u001b[0m\u001b[0;34m)\u001b[0m\u001b[0;34m:\u001b[0m\u001b[0;34m\u001b[0m\u001b[0m\n",
      "\u001b[0;32m<ipython-input-6-207ffdfb7760>\u001b[0m in \u001b[0;36mset_temperature\u001b[0;34m(self, value)\u001b[0m\n\u001b[1;32m     11\u001b[0m     \u001b[0;32mdef\u001b[0m \u001b[0mset_temperature\u001b[0m\u001b[0;34m(\u001b[0m\u001b[0mself\u001b[0m\u001b[0;34m,\u001b[0m \u001b[0mvalue\u001b[0m\u001b[0;34m)\u001b[0m\u001b[0;34m:\u001b[0m\u001b[0;34m\u001b[0m\u001b[0m\n\u001b[1;32m     12\u001b[0m         \u001b[0;32mif\u001b[0m \u001b[0mvalue\u001b[0m \u001b[0;34m<\u001b[0m \u001b[0;34m-\u001b[0m\u001b[0;36m273\u001b[0m\u001b[0;34m:\u001b[0m\u001b[0;34m\u001b[0m\u001b[0m\n\u001b[0;32m---> 13\u001b[0;31m             \u001b[0;32mraise\u001b[0m \u001b[0mValueError\u001b[0m\u001b[0;34m(\u001b[0m\u001b[0;34m\"Temperature below -273 is not possible\"\u001b[0m\u001b[0;34m)\u001b[0m\u001b[0;34m\u001b[0m\u001b[0m\n\u001b[0m\u001b[1;32m     14\u001b[0m         \u001b[0mself\u001b[0m\u001b[0;34m.\u001b[0m\u001b[0m_temperature\u001b[0m \u001b[0;34m=\u001b[0m \u001b[0mvalue\u001b[0m\u001b[0;34m\u001b[0m\u001b[0m\n",
      "\u001b[0;31mValueError\u001b[0m: Temperature below -273 is not possible"
     ]
    }
   ],
   "source": [
    "c = Celsius(-299)"
   ]
  },
  {
   "cell_type": "code",
   "execution_count": 15,
   "metadata": {},
   "outputs": [
    {
     "data": {
      "text/plain": [
       "86.0"
      ]
     },
     "execution_count": 15,
     "metadata": {},
     "output_type": "execute_result"
    }
   ],
   "source": [
    "d = Celsius(30)\n",
    "d.to_fahrenheit()"
   ]
  },
  {
   "cell_type": "code",
   "execution_count": 18,
   "metadata": {},
   "outputs": [
    {
     "data": {
      "text/plain": [
       "30"
      ]
     },
     "execution_count": 18,
     "metadata": {},
     "output_type": "execute_result"
    }
   ],
   "source": [
    "d.get_temperature()"
   ]
  },
  {
   "cell_type": "markdown",
   "metadata": {},
   "source": [
    "#### 1.4 Property\n",
    "- Cách 1 sử dụng property với getter và setter"
   ]
  },
  {
   "cell_type": "code",
   "execution_count": 22,
   "metadata": {},
   "outputs": [
    {
     "name": "stdout",
     "output_type": "stream",
     "text": [
      "100\n"
     ]
    }
   ],
   "source": [
    "class Celsius:\n",
    "    def __init__(self, temperature = 0):\n",
    "        self.set_temperature(temperature)\n",
    "\n",
    "    def to_fahrenheit(self):\n",
    "        return (self.get_temperature() * 1.8) + 32\n",
    "    # new update\n",
    "    def get_temperature(self):\n",
    "        return self._temperature\n",
    "\n",
    "    def set_temperature(self, value):\n",
    "        if value < -273:\n",
    "            raise ValueError(\"Temperature below -273 is not possible\")\n",
    "        self._temperature = value\n",
    "    \n",
    "    temperature = property(get_temperature,set_temperature)\n",
    "\n",
    "    # ====================================\n",
    "c = Celsius(100)\n",
    "print(c.temperature)"
   ]
  },
  {
   "cell_type": "code",
   "execution_count": 26,
   "metadata": {},
   "outputs": [
    {
     "name": "stdout",
     "output_type": "stream",
     "text": [
      "37\n"
     ]
    }
   ],
   "source": [
    "c.temperature = 37\n",
    "print(c.temperature)"
   ]
  },
  {
   "cell_type": "markdown",
   "metadata": {},
   "source": [
    "- Cách 2 : Sử dụng property để định nghĩa setter getter "
   ]
  },
  {
   "cell_type": "code",
   "execution_count": 35,
   "metadata": {},
   "outputs": [],
   "source": [
    "class Celsius:\n",
    "    def __init__(self, temperature = 0):\n",
    "        self._temperature = temperature\n",
    "    @property\n",
    "    def temperature(self):\n",
    "        print(\"Getting value\")\n",
    "        return self._temperature\n",
    "\n",
    "    @temperature.setter\n",
    "    def temperature(self, value):\n",
    "        if value < -273:\n",
    "            raise ValueError(\"Temperature below -273 is not possible\")\n",
    "        print(\"Setting value\")\n",
    "        self._temperature = value"
   ]
  },
  {
   "cell_type": "code",
   "execution_count": 31,
   "metadata": {},
   "outputs": [
    {
     "name": "stdout",
     "output_type": "stream",
     "text": [
      "Getting value\n",
      "69\n"
     ]
    }
   ],
   "source": [
    "d = Celsius(69)\n",
    "print(d.temperature)"
   ]
  },
  {
   "cell_type": "code",
   "execution_count": 33,
   "metadata": {},
   "outputs": [
    {
     "name": "stdout",
     "output_type": "stream",
     "text": [
      "96\n"
     ]
    }
   ],
   "source": [
    "d.temperature = 96 \n",
    "print(d.temperature)"
   ]
  },
  {
   "cell_type": "markdown",
   "metadata": {},
   "source": [
    "#### 1.5 Method Supper \n",
    "- Dùng để kế thừa method từ class khác "
   ]
  },
  {
   "cell_type": "code",
   "execution_count": 42,
   "metadata": {},
   "outputs": [
    {
     "name": "stdout",
     "output_type": "stream",
     "text": [
      "child A init\n",
      "this is base\n"
     ]
    },
    {
     "data": {
      "text/plain": [
       "<__main__.childA at 0x10b3445d0>"
      ]
     },
     "execution_count": 42,
     "metadata": {},
     "output_type": "execute_result"
    }
   ],
   "source": [
    "class base (object):\n",
    "    def __init__(self):\n",
    "        print(\"this is base\")\n",
    "\n",
    "class childA (base):\n",
    "    def __init__(self):\n",
    "        print('child A init')\n",
    "        base.__init__(self)\n",
    "        \n",
    "childA()"
   ]
  },
  {
   "cell_type": "code",
   "execution_count": 46,
   "metadata": {},
   "outputs": [
    {
     "name": "stdout",
     "output_type": "stream",
     "text": [
      "child B init\n",
      "this is base\n"
     ]
    },
    {
     "data": {
      "text/plain": [
       "<__main__.childB at 0x10b288650>"
      ]
     },
     "execution_count": 46,
     "metadata": {},
     "output_type": "execute_result"
    }
   ],
   "source": [
    "class childB(base):\n",
    "    def __init__(self):\n",
    "        print('child B init')\n",
    "        super(childB,self).__init__()\n",
    "# Hoặc :          super(self.__class__,self).__init__()\n",
    "\n",
    "childB()"
   ]
  },
  {
   "cell_type": "markdown",
   "metadata": {},
   "source": [
    "#### 1.6 Multiple inherit "
   ]
  },
  {
   "cell_type": "code",
   "execution_count": 52,
   "metadata": {},
   "outputs": [],
   "source": [
    "class Person(object):\n",
    "    def talk(self):\n",
    "        print('Talk something')\n",
    "class Car(object):\n",
    "    def run(self):\n",
    "        print(\"I'm run so fast\")\n",
    "class Robot(Person,Car):\n",
    "    def fly(self):\n",
    "        print(\"If I can fly\")"
   ]
  },
  {
   "cell_type": "code",
   "execution_count": 54,
   "metadata": {},
   "outputs": [
    {
     "name": "stdout",
     "output_type": "stream",
     "text": [
      "Talk something\n",
      "I'm run so fast\n"
     ]
    }
   ],
   "source": [
    "robo = Robot()\n",
    "robo.talk()\n",
    "robo.run()"
   ]
  },
  {
   "cell_type": "markdown",
   "metadata": {},
   "source": [
    "#### 1.7. class method, instance method vs static method"
   ]
  },
  {
   "cell_type": "code",
   "execution_count": 85,
   "metadata": {},
   "outputs": [],
   "source": [
    "class character:\n",
    "    def instance_chr(self, x):\n",
    "        print(\"instance method \" +x)\n",
    "    \n",
    "    @classmethod\n",
    "    def class_char(cls,x):\n",
    "        print(\"class method \" + x)\n",
    "    \n",
    "    @staticmethod\n",
    "    def static_char(x):\n",
    "        print(\"static method \" +  x)\n",
    "        \n",
    "chr = character()"
   ]
  },
  {
   "cell_type": "markdown",
   "metadata": {},
   "source": [
    "- Instance Method :\n",
    "\n",
    "  Một đối tượng (instance của class) được ngầm truyền thành tham số thứ nhất (self) của phương thức này. \n",
    "  Ví dụ khi gọi `instance chr` thì Python ngầm truyền `chr`thành tham số thứ nhất."
   ]
  },
  {
   "cell_type": "code",
   "execution_count": 79,
   "metadata": {},
   "outputs": [
    {
     "data": {
      "text/plain": [
       "<bound method character.instance_chr of <__main__.character instance at 0x10b351440>>"
      ]
     },
     "execution_count": 79,
     "metadata": {},
     "output_type": "execute_result"
    }
   ],
   "source": [
    "chr.instance_chr"
   ]
  },
  {
   "cell_type": "code",
   "execution_count": 73,
   "metadata": {},
   "outputs": [
    {
     "name": "stdout",
     "output_type": "stream",
     "text": [
      "instance method Gintoki\n"
     ]
    }
   ],
   "source": [
    "chr.instance_chr('Gintoki')"
   ]
  },
  {
   "cell_type": "markdown",
   "metadata": {},
   "source": [
    "- Class Method\n",
    "\n",
    " - Class method ngầm gán class cho tham số thứ nhất khi gọi hàm. Và điều này luôn đúng dù nó được gọi từ instance hay class.\n",
    " - Class Method có thể được gọi trực tiếp từ `instance` hoặc từ `class`"
   ]
  },
  {
   "cell_type": "code",
   "execution_count": 80,
   "metadata": {},
   "outputs": [
    {
     "data": {
      "text/plain": [
       "<bound method classobj.class_char of <class __main__.character at 0x10b378ae0>>"
      ]
     },
     "execution_count": 80,
     "metadata": {},
     "output_type": "execute_result"
    }
   ],
   "source": [
    "chr.class_char"
   ]
  },
  {
   "cell_type": "code",
   "execution_count": 81,
   "metadata": {},
   "outputs": [
    {
     "data": {
      "text/plain": [
       "<bound method classobj.class_char of <class __main__.character at 0x10b378ae0>>"
      ]
     },
     "execution_count": 81,
     "metadata": {},
     "output_type": "execute_result"
    }
   ],
   "source": [
    "character.class_char"
   ]
  },
  {
   "cell_type": "code",
   "execution_count": 76,
   "metadata": {},
   "outputs": [
    {
     "name": "stdout",
     "output_type": "stream",
     "text": [
      "class method Katsura\n"
     ]
    }
   ],
   "source": [
    "chr.class_char('Katsura')"
   ]
  },
  {
   "cell_type": "code",
   "execution_count": 77,
   "metadata": {},
   "outputs": [
    {
     "name": "stdout",
     "output_type": "stream",
     "text": [
      "class method Elizabets\n"
     ]
    }
   ],
   "source": [
    "character.class_char('Elizabets')"
   ]
  },
  {
   "cell_type": "markdown",
   "metadata": {},
   "source": [
    "- Static Method\n",
    " - Static method là phương thức không phụ thuộc gì vào instance hay class. Vì vậy, phương thức __get__ của nó khá đơn giản, nó chỉ đơn giản trả về bản thân hàm đó là đủ."
   ]
  },
  {
   "cell_type": "code",
   "execution_count": 88,
   "metadata": {},
   "outputs": [
    {
     "data": {
      "text/plain": [
       "<function __main__.static_char>"
      ]
     },
     "execution_count": 88,
     "metadata": {},
     "output_type": "execute_result"
    }
   ],
   "source": [
    "chr.static_char"
   ]
  },
  {
   "cell_type": "code",
   "execution_count": 89,
   "metadata": {},
   "outputs": [
    {
     "name": "stdout",
     "output_type": "stream",
     "text": [
      "static method Sogo\n"
     ]
    }
   ],
   "source": [
    "chr.static_char(\"Sogo\")"
   ]
  },
  {
   "cell_type": "markdown",
   "metadata": {},
   "source": [
    "#### 1.8 Các Method đặc biệt "
   ]
  },
  {
   "cell_type": "code",
   "execution_count": 92,
   "metadata": {},
   "outputs": [
    {
     "name": "stdout",
     "output_type": "stream",
     "text": [
      "['__add__', '__class__', '__contains__', '__delattr__', '__doc__', '__eq__', '__format__', '__ge__', '__getattribute__', '__getitem__', '__getnewargs__', '__getslice__', '__gt__', '__hash__', '__init__', '__le__', '__len__', '__lt__', '__mod__', '__mul__', '__ne__', '__new__', '__reduce__', '__reduce_ex__', '__repr__', '__rmod__', '__rmul__', '__setattr__', '__sizeof__', '__str__', '__subclasshook__', '_formatter_field_name_split', '_formatter_parser', 'capitalize', 'center', 'count', 'decode', 'encode', 'endswith', 'expandtabs', 'find', 'format', 'index', 'isalnum', 'isalpha', 'isdigit', 'islower', 'isspace', 'istitle', 'isupper', 'join', 'ljust', 'lower', 'lstrip', 'partition', 'replace', 'rfind', 'rindex', 'rjust', 'rpartition', 'rsplit', 'rstrip', 'split', 'splitlines', 'startswith', 'strip', 'swapcase', 'title', 'translate', 'upper', 'zfill']\n"
     ]
    }
   ],
   "source": [
    "a = \"I'm python\"\n",
    "print(dir(a)) "
   ]
  },
  {
   "cell_type": "markdown",
   "metadata": {},
   "source": [
    "- Overriding Method "
   ]
  },
  {
   "cell_type": "code",
   "execution_count": 107,
   "metadata": {},
   "outputs": [
    {
     "data": {
      "text/plain": [
       "107"
      ]
     },
     "execution_count": 107,
     "metadata": {},
     "output_type": "execute_result"
    }
   ],
   "source": [
    "class words(object):\n",
    "    def __init__(self,word):\n",
    "        self.word = word\n",
    "    def __str__(self):\n",
    "        return \"Words\"\n",
    "    def __len__(self):\n",
    "        return len(self.word) + 100\n",
    "\n",
    "w = words(\"gintoki\")\n",
    "len(w)"
   ]
  }
 ],
 "metadata": {
  "celltoolbar": "Raw Cell Format",
  "kernelspec": {
   "display_name": "Python 3",
   "language": "python",
   "name": "python3"
  },
  "language_info": {
   "codemirror_mode": {
    "name": "ipython",
    "version": 2
   },
   "file_extension": ".py",
   "mimetype": "text/x-python",
   "name": "python",
   "nbconvert_exporter": "python",
   "pygments_lexer": "ipython2",
   "version": "2.7.14"
  }
 },
 "nbformat": 4,
 "nbformat_minor": 2
}
