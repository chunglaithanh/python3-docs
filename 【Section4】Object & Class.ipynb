{
 "cells": [
  {
   "cell_type": "markdown",
   "metadata": {},
   "source": [
    "### 1. Class \n",
    "#### 1.1 Định nghĩa class"
   ]
  },
  {
   "cell_type": "code",
   "execution_count": 3,
   "metadata": {
    "scrolled": true
   },
   "outputs": [
    {
     "name": "stdout",
     "output_type": "stream",
     "text": [
      " Say Blah \n"
     ]
    }
   ],
   "source": [
    "class Person(object):\n",
    "    def say_blahblah(self):\n",
    "        print(' Say Blah ')\n",
    "\n",
    "person = Person()\n",
    "person.say_blahblah()"
   ]
  },
  {
   "cell_type": "markdown",
   "metadata": {},
   "source": [
    "#### 1.2  Class method \n",
    "- Khởi tạo class với `__init__`"
   ]
  },
  {
   "cell_type": "code",
   "execution_count": 4,
   "metadata": {},
   "outputs": [
    {
     "name": "stdout",
     "output_type": "stream",
     "text": [
      "Sakata Gintoki\n"
     ]
    }
   ],
   "source": [
    "class character(object):\n",
    "    def __init__(self,name):\n",
    "        self.name = name \n",
    "        print(self.name)\n",
    "gintoki = character('Sakata Gintoki')"
   ]
  },
  {
   "cell_type": "markdown",
   "metadata": {},
   "source": [
    "- Xóa với `__del__`"
   ]
  },
  {
   "cell_type": "code",
   "execution_count": 5,
   "metadata": {},
   "outputs": [
    {
     "name": "stdout",
     "output_type": "stream",
     "text": [
      "Bye Bye !!!\n"
     ]
    }
   ],
   "source": [
    "class character(object):\n",
    "    def ageIncrease(self,age):\n",
    "        self.age = age + 1 \n",
    "    def __del__(self):\n",
    "        print('Bye Bye !!!')\n",
    "  \n",
    "gintoki = character()\n",
    "del gintoki"
   ]
  }
 ],
 "metadata": {
  "kernelspec": {
   "display_name": "Python 3",
   "language": "python",
   "name": "python3"
  },
  "language_info": {
   "codemirror_mode": {
    "name": "ipython",
    "version": 2
   },
   "file_extension": ".py",
   "mimetype": "text/x-python",
   "name": "python",
   "nbconvert_exporter": "python",
   "pygments_lexer": "ipython2",
   "version": "2.7.14"
  }
 },
 "nbformat": 4,
 "nbformat_minor": 2
}
